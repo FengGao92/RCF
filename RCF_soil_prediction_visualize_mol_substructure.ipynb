{
 "cells": [
  {
   "cell_type": "code",
   "execution_count": 1,
   "metadata": {},
   "outputs": [
    {
     "name": "stderr",
     "output_type": "stream",
     "text": [
      "In C:\\applications\\anaconda\\lib\\site-packages\\matplotlib\\mpl-data\\stylelib\\_classic_test.mplstyle: \n",
      "The text.latex.preview rcparam was deprecated in Matplotlib 3.3 and will be removed two minor releases later.\n",
      "In C:\\applications\\anaconda\\lib\\site-packages\\matplotlib\\mpl-data\\stylelib\\_classic_test.mplstyle: \n",
      "The mathtext.fallback_to_cm rcparam was deprecated in Matplotlib 3.3 and will be removed two minor releases later.\n",
      "In C:\\applications\\anaconda\\lib\\site-packages\\matplotlib\\mpl-data\\stylelib\\_classic_test.mplstyle: Support for setting the 'mathtext.fallback_to_cm' rcParam is deprecated since 3.3 and will be removed two minor releases later; use 'mathtext.fallback : 'cm' instead.\n",
      "In C:\\applications\\anaconda\\lib\\site-packages\\matplotlib\\mpl-data\\stylelib\\_classic_test.mplstyle: \n",
      "The validate_bool_maybe_none function was deprecated in Matplotlib 3.3 and will be removed two minor releases later.\n",
      "In C:\\applications\\anaconda\\lib\\site-packages\\matplotlib\\mpl-data\\stylelib\\_classic_test.mplstyle: \n",
      "The savefig.jpeg_quality rcparam was deprecated in Matplotlib 3.3 and will be removed two minor releases later.\n",
      "In C:\\applications\\anaconda\\lib\\site-packages\\matplotlib\\mpl-data\\stylelib\\_classic_test.mplstyle: \n",
      "The keymap.all_axes rcparam was deprecated in Matplotlib 3.3 and will be removed two minor releases later.\n",
      "In C:\\applications\\anaconda\\lib\\site-packages\\matplotlib\\mpl-data\\stylelib\\_classic_test.mplstyle: \n",
      "The animation.avconv_path rcparam was deprecated in Matplotlib 3.3 and will be removed two minor releases later.\n",
      "In C:\\applications\\anaconda\\lib\\site-packages\\matplotlib\\mpl-data\\stylelib\\_classic_test.mplstyle: \n",
      "The animation.avconv_args rcparam was deprecated in Matplotlib 3.3 and will be removed two minor releases later.\n",
      "C:\\applications\\anaconda\\lib\\site-packages\\statsmodels\\tools\\_testing.py:19: FutureWarning: pandas.util.testing is deprecated. Use the functions in the public API at pandas.testing instead.\n",
      "  import pandas.util.testing as tm\n"
     ]
    }
   ],
   "source": [
    "import pandas as pd\n",
    "import numpy as np\n",
    "import scipy\n",
    "from collections import Counter\n",
    "import seaborn as sns\n",
    "import matplotlib.pyplot as plt"
   ]
  },
  {
   "cell_type": "code",
   "execution_count": 2,
   "metadata": {},
   "outputs": [],
   "source": [
    "from sklearn.ensemble import GradientBoostingRegressor\n",
    "\n",
    "from sklearn.inspection import permutation_importance"
   ]
  },
  {
   "cell_type": "code",
   "execution_count": 3,
   "metadata": {},
   "outputs": [],
   "source": [
    "from rdkit import Chem\n",
    "from rdkit.Chem import AllChem\n",
    "from IPython.display import SVG\n",
    "from rdkit.Chem import rdDepictor\n",
    "from rdkit.Chem.Draw import rdMolDraw2D\n",
    "from utility import depictBit,Kfold"
   ]
  },
  {
   "cell_type": "code",
   "execution_count": 4,
   "metadata": {},
   "outputs": [],
   "source": [
    "#=================run below codes to preprocess data========================="
   ]
  },
  {
   "cell_type": "code",
   "execution_count": 5,
   "metadata": {},
   "outputs": [
    {
     "name": "stdout",
     "output_type": "stream",
     "text": [
      "reading data\n",
      "reading data finished\n"
     ]
    }
   ],
   "source": [
    "print('reading data')\n",
    "data = pd.read_csv('rcf_lipid_combined.csv',encoding='cp1252')\n",
    "print('reading data finished')"
   ]
  },
  {
   "cell_type": "code",
   "execution_count": 6,
   "metadata": {},
   "outputs": [
    {
     "name": "stdout",
     "output_type": "stream",
     "text": [
      "statr generating ECFP\n",
      "finish generating ECFP\n",
      "start 5-fold cross-validation for GBRT-ECFP model\n"
     ]
    }
   ],
   "source": [
    "SMILES = data['SMILES'].to_numpy()\n",
    "MW = data['MW'].to_numpy().reshape(-1,1)\n",
    "logKOW = data['log Kow'].to_numpy().reshape(-1,1)\n",
    "OM = data['fom (%)'].to_numpy().reshape(-1,1)\n",
    "flipid = data['flip (%)'].to_numpy().reshape(-1,1)\n",
    "\n",
    "RCF_soil = data['log RCF-soil'].to_numpy()\n",
    "\n",
    "#generate ECFP for all molecules\n",
    "print('statr generating ECFP')\n",
    "FP = []\n",
    "\n",
    "for i,sm in enumerate(SMILES):\n",
    "    mol = Chem.MolFromSmiles(sm)\n",
    "    fp = AllChem.GetMorganFingerprintAsBitVect(mol,2,nBits=1024)\n",
    "    FP.append(fp)\n",
    "FP = np.array(FP)\n",
    "print('finish generating ECFP')\n",
    "\n",
    "n_sample = len(RCF_soil)\n",
    "\n",
    "print('start 5-fold cross-validation for GBRT-ECFP model')\n",
    "feature_w_smiles = np.concatenate((FP,OM,flipid),1)\n",
    "feature_w_smiles_z = scipy.stats.mstats.zscore(feature_w_smiles,0)\n",
    "feature_w_smiles_z[np.isnan(feature_w_smiles_z)] = 0\n",
    "total_id = np.load('sample_index.npy')"
   ]
  },
  {
   "cell_type": "code",
   "execution_count": 7,
   "metadata": {},
   "outputs": [
    {
     "name": "stdout",
     "output_type": "stream",
     "text": [
      "batch is  0\n",
      "0.6943699832666388\n",
      "best n_estimator is 200\n",
      "best depth is 6\n",
      "feature importance [1.51165998e-05 1.57941914e-03 0.00000000e+00 ... 0.00000000e+00\n",
      " 2.63700833e-01 1.85697718e-01]\n",
      "batch is  1\n",
      "0.702709976536811\n",
      "best n_estimator is 250\n",
      "best depth is 4\n",
      "feature importance [5.28149777e-05 9.33517550e-03 0.00000000e+00 ... 0.00000000e+00\n",
      " 2.63350464e-01 2.74578781e-01]\n",
      "batch is  2\n",
      "0.8343000451263373\n",
      "best n_estimator is 500\n",
      "best depth is 2\n",
      "feature importance [4.93547597e-06 1.66096422e-03 0.00000000e+00 ... 0.00000000e+00\n",
      " 2.48796915e-01 1.78923263e-01]\n",
      "batch is  3\n",
      "0.8432238229601449\n",
      "best n_estimator is 1000\n",
      "best depth is 2\n",
      "feature importance [4.61240796e-06 3.92312329e-05 0.00000000e+00 ... 0.00000000e+00\n",
      " 2.70695134e-01 2.18518349e-01]\n",
      "batch is  4\n",
      "0.7608093446757063\n",
      "best n_estimator is 1000\n",
      "best depth is 2\n",
      "feature importance [7.23810899e-06 7.93578714e-04 2.95858344e-05 ... 0.00000000e+00\n",
      " 2.66418048e-01 1.54346307e-01]\n"
     ]
    }
   ],
   "source": [
    "train_split_index,test_split_index = Kfold(n_sample,5)\n",
    "\n",
    "splits = 5\n",
    "prediction_w_smiles = []\n",
    "prediction_true_w_smiles = []\n",
    "test_score_all_w_smiles = []\n",
    "feature_importance_all_w_smiles = []\n",
    "\n",
    "importance_all_dots_w_smiles_test = []\n",
    "permute_importance_all_w_smiles_test = []\n",
    "\n",
    "importance_all_dots_w_smiles_train = []\n",
    "permute_importance_all_w_smiles_train = []\n",
    "\n",
    "for k in range(splits):\n",
    "    \n",
    "    print('batch is ',k)\n",
    "    train_index = train_split_index[k][:int(len(train_split_index[k])*0.875)]\n",
    "    valid_index = train_split_index[k][int(len(train_split_index[k])*0.875):]\n",
    "    test_index = test_split_index[k]\n",
    "    \n",
    "    train_id = [total_id[i] for i in train_index]\n",
    "    valid_id = [total_id[i] for i in valid_index]\n",
    "    test_id = [total_id[i] for i in test_index]\n",
    "    \n",
    "    train_feature = [feature_w_smiles_z[i] for i in train_id]\n",
    "    train_label = [RCF_soil[i] for i in train_id]\n",
    "    \n",
    "    valid_feature = [feature_w_smiles_z[i] for i in valid_id]\n",
    "    valid_label = [RCF_soil[i] for i in valid_id]\n",
    "    \n",
    "    test_feature = [feature_w_smiles_z[i] for i in test_id]\n",
    "    test_label = [RCF_soil[i] for i in test_id]\n",
    "    \n",
    "    n_estimator = [200,250,500,750,1000,1250]\n",
    "    max_depths = [2,4,6,8,10]\n",
    "    \n",
    "    best_valid_score = 0\n",
    "    for ne in n_estimator:\n",
    "        for m_d in max_depths:\n",
    "            model = GradientBoostingRegressor(n_estimators=ne,max_depth=m_d)\n",
    "            model.fit(np.array(train_feature),np.array(train_label).reshape(-1))\n",
    "            valid_score = model.score(valid_feature,np.array(valid_label).reshape(-1,1))\n",
    "            if valid_score>best_valid_score:\n",
    "                best_valid_score = valid_score\n",
    "                test_score = model.score(test_feature,np.array(test_label).reshape(-1,1))                \n",
    "                pred = model.predict(test_feature)\n",
    "                best_n = ne\n",
    "                best_d = m_d\n",
    "    \n",
    "    model = GradientBoostingRegressor(n_estimators=best_n,max_depth=best_d).fit(np.array(train_feature),np.array(train_label))\n",
    "    \n",
    "    permut_importance_test = permutation_importance(model,test_feature,np.array(test_label),n_repeats=10)\n",
    "    importance_all_dots_w_smiles_test.append(permut_importance_test.importances)\n",
    "    \n",
    "    #plot_partial_dependence(model, np.array(train_feature)[:,-2].reshape(-1,1),['OM'],np.array(['OM']))\n",
    "    #plot_partial_dependence(model, np.array(train_feature)[:,-1].reshape(-1,1),['flipid'],np.array(['flipid']))\n",
    "    \n",
    "    #permut_importance_train = permutation_importance(model,np.array(train_feature),np.array(train_label),n_repeats=10)\n",
    "    #importance_all_dots_w_smiles_train.append(permut_importance_train.importances)\n",
    "    \n",
    "    print(test_score)\n",
    "    prediction_w_smiles.append(pred)\n",
    "    prediction_true_w_smiles.append(test_label)\n",
    "    test_score_all_w_smiles.append(test_score)\n",
    "    feature_importance_all_w_smiles.append(model.feature_importances_)\n",
    "    \n",
    "    permute_importance_all_w_smiles_test.append(permut_importance_test.importances_mean)\n",
    "    #permute_importance_all_w_smiles_train.append(permut_importance_train.importances_mean)\n",
    "    print('best n_estimator is',best_n)\n",
    "    print('best depth is',best_d)\n",
    "    print('feature importance',model.feature_importances_)"
   ]
  },
  {
   "cell_type": "code",
   "execution_count": null,
   "metadata": {},
   "outputs": [],
   "source": []
  },
  {
   "cell_type": "code",
   "execution_count": null,
   "metadata": {},
   "outputs": [],
   "source": []
  },
  {
   "cell_type": "code",
   "execution_count": 8,
   "metadata": {},
   "outputs": [],
   "source": [
    "#example of generating substructures from permutation importance"
   ]
  },
  {
   "cell_type": "code",
   "execution_count": 9,
   "metadata": {},
   "outputs": [],
   "source": [
    "mean_feature_importance_all_permute_smiles_test = np.mean(permute_importance_all_w_smiles_test,0)"
   ]
  },
  {
   "cell_type": "code",
   "execution_count": 10,
   "metadata": {},
   "outputs": [],
   "source": [
    "sorted_feature_imporatnce_idx_permute_smiles_test = np.argsort(mean_feature_importance_all_permute_smiles_test[:-2])[::-1]"
   ]
  },
  {
   "cell_type": "code",
   "execution_count": 11,
   "metadata": {},
   "outputs": [
    {
     "name": "stdout",
     "output_type": "stream",
     "text": [
      "The top 10 most important substructure id from permutation importance is [875 561 695 333 888 326 530 320 201 455]\n"
     ]
    }
   ],
   "source": [
    "#There could be slightly difference due to random shuffle and/or package versions\n",
    "top_10_permute = sorted_feature_imporatnce_idx_permute_smiles_test[:10]\n",
    "print('The top 10 most important substructure id from permutation importance is',top_10_permute)"
   ]
  },
  {
   "cell_type": "code",
   "execution_count": 12,
   "metadata": {},
   "outputs": [],
   "source": [
    "#select a substructure id and visualize it\n",
    "struture_id = 888"
   ]
  },
  {
   "cell_type": "code",
   "execution_count": 13,
   "metadata": {},
   "outputs": [
    {
     "name": "stdout",
     "output_type": "stream",
     "text": [
      "39\n",
      "232\n",
      "233\n",
      "234\n",
      "235\n",
      "236\n",
      "243\n",
      "244\n",
      "245\n",
      "246\n",
      "247\n",
      "261\n",
      "264\n",
      "266\n"
     ]
    }
   ],
   "source": [
    "#run through all chemicals and print all chemicals that contain this substructure\n",
    "for i,sm in enumerate(SMILES):\n",
    "    info = {}\n",
    "    mol = Chem.MolFromSmiles(sm)\n",
    "    fp = AllChem.GetMorganFingerprintAsBitVect(mol,2,nBits=1024,bitInfo=info)\n",
    "    if struture_id in info:\n",
    "        print(i)"
   ]
  },
  {
   "cell_type": "code",
   "execution_count": 14,
   "metadata": {},
   "outputs": [
    {
     "data": {
      "image/svg+xml": [
       "<svg baseProfile=\"full\" height=\"200px\" version=\"1.1\" viewBox=\"0 0 450 200\" width=\"450px\" xml:space=\"preserve\" xmlns=\"http://www.w3.org/2000/svg\" xmlns:rdkit=\"http://www.rdkit.org/xml\" xmlns:xlink=\"http://www.w3.org/1999/xlink\">\n",
       "<!-- END OF HEADER -->\n",
       "<rect height=\"200\" style=\"opacity:1.0;fill:#FFFFFF;stroke:none\" width=\"450\" x=\"0\" y=\"0\"> </rect>\n",
       "<path d=\"M 162.112,75.074 L 208.893,64.8862\" style=\"fill:none;fill-rule:evenodd;stroke:#FF7F7F;stroke-width:10px;stroke-linecap:butt;stroke-linejoin:miter;stroke-opacity:1\"/>\n",
       "<path d=\"M 208.893,64.8862 L 241.107,100.306\" style=\"fill:none;fill-rule:evenodd;stroke:#FF7F7F;stroke-width:10px;stroke-linecap:butt;stroke-linejoin:miter;stroke-opacity:1\"/>\n",
       "<path d=\"M 208.893,64.8862 L 223.461,19.2786\" style=\"fill:none;fill-rule:evenodd;stroke:#FF7F7F;stroke-width:10px;stroke-linecap:butt;stroke-linejoin:miter;stroke-opacity:1\"/>\n",
       "<path d=\"M 241.107,100.306 L 226.539,145.914\" style=\"fill:none;fill-rule:evenodd;stroke:#FF7F7F;stroke-width:10px;stroke-linecap:butt;stroke-linejoin:miter;stroke-opacity:1\"/>\n",
       "<path d=\"M 241.107,100.306 L 287.888,90.1184\" style=\"fill:none;fill-rule:evenodd;stroke:#FF7F7F;stroke-width:10px;stroke-linecap:butt;stroke-linejoin:miter;stroke-opacity:1\"/>\n",
       "<path d=\"M 226.539,145.914 L 179.758,156.101\" style=\"fill:none;fill-rule:evenodd;stroke:#FF7F7F;stroke-width:10px;stroke-linecap:butt;stroke-linejoin:miter;stroke-opacity:1\"/>\n",
       "<path d=\"M 226.539,145.914 L 258.752,181.334\" style=\"fill:none;fill-rule:evenodd;stroke:#FF7F7F;stroke-width:10px;stroke-linecap:butt;stroke-linejoin:miter;stroke-opacity:1\"/>\n",
       "<path d=\"M 320.101,125.538 L 287.888,90.1184\" style=\"fill:none;fill-rule:evenodd;stroke:#FF7F7F;stroke-width:10px;stroke-linecap:butt;stroke-linejoin:miter;stroke-opacity:1\"/>\n",
       "<path d=\"M 287.888,90.1184 L 302.456,44.5108\" style=\"fill:none;fill-rule:evenodd;stroke:#FF7F7F;stroke-width:10px;stroke-linecap:butt;stroke-linejoin:miter;stroke-opacity:1\"/>\n",
       "<ellipse cx=\"162.112\" cy=\"75.074\" rx=\"9.57554\" ry=\"9.57554\" style=\"fill:#FF7F7F;fill-rule:evenodd;stroke:#FF7F7F;stroke-width:2px;stroke-linecap:butt;stroke-linejoin:miter;stroke-opacity:1\"/>\n",
       "<ellipse cx=\"208.893\" cy=\"64.8862\" rx=\"9.57554\" ry=\"9.57554\" style=\"fill:#FF7F7F;fill-rule:evenodd;stroke:#FF7F7F;stroke-width:2px;stroke-linecap:butt;stroke-linejoin:miter;stroke-opacity:1\"/>\n",
       "<ellipse cx=\"241.107\" cy=\"100.306\" rx=\"9.57554\" ry=\"9.57554\" style=\"fill:#4C4CFF;fill-rule:evenodd;stroke:#4C4CFF;stroke-width:2px;stroke-linecap:butt;stroke-linejoin:miter;stroke-opacity:1\"/>\n",
       "<ellipse cx=\"226.539\" cy=\"145.914\" rx=\"9.57554\" ry=\"9.57554\" style=\"fill:#FF7F7F;fill-rule:evenodd;stroke:#FF7F7F;stroke-width:2px;stroke-linecap:butt;stroke-linejoin:miter;stroke-opacity:1\"/>\n",
       "<ellipse cx=\"179.758\" cy=\"156.101\" rx=\"9.57554\" ry=\"9.57554\" style=\"fill:#FF7F7F;fill-rule:evenodd;stroke:#FF7F7F;stroke-width:2px;stroke-linecap:butt;stroke-linejoin:miter;stroke-opacity:1\"/>\n",
       "<ellipse cx=\"258.752\" cy=\"181.334\" rx=\"9.57554\" ry=\"9.57554\" style=\"fill:#FF7F7F;fill-rule:evenodd;stroke:#FF7F7F;stroke-width:2px;stroke-linecap:butt;stroke-linejoin:miter;stroke-opacity:1\"/>\n",
       "<ellipse cx=\"320.101\" cy=\"125.538\" rx=\"9.57554\" ry=\"9.57554\" style=\"fill:#FF7F7F;fill-rule:evenodd;stroke:#FF7F7F;stroke-width:2px;stroke-linecap:butt;stroke-linejoin:miter;stroke-opacity:1\"/>\n",
       "<ellipse cx=\"287.888\" cy=\"90.1184\" rx=\"9.57554\" ry=\"9.57554\" style=\"fill:#FF7F7F;fill-rule:evenodd;stroke:#FF7F7F;stroke-width:2px;stroke-linecap:butt;stroke-linejoin:miter;stroke-opacity:1\"/>\n",
       "<ellipse cx=\"302.456\" cy=\"44.5108\" rx=\"9.57554\" ry=\"9.57554\" style=\"fill:#FF7F7F;fill-rule:evenodd;stroke:#FF7F7F;stroke-width:2px;stroke-linecap:butt;stroke-linejoin:miter;stroke-opacity:1\"/>\n",
       "<ellipse cx=\"223.461\" cy=\"19.2786\" rx=\"9.57554\" ry=\"9.57554\" style=\"fill:#FF7F7F;fill-rule:evenodd;stroke:#FF7F7F;stroke-width:2px;stroke-linecap:butt;stroke-linejoin:miter;stroke-opacity:1\"/>\n",
       "<path class=\"bond-0\" d=\"M 68.5496,95.4494 L 83.1174,49.8418\" style=\"fill:none;fill-rule:evenodd;stroke:#000000;stroke-width:2px;stroke-linecap:butt;stroke-linejoin:miter;stroke-opacity:1\"/>\n",
       "<path class=\"bond-0\" d=\"M 79.8563,91.5219 L 90.0537,59.5965\" style=\"fill:none;fill-rule:evenodd;stroke:#000000;stroke-width:2px;stroke-linecap:butt;stroke-linejoin:miter;stroke-opacity:1\"/>\n",
       "<path class=\"bond-19\" d=\"M 68.5496,95.4494 L 100.763,130.869\" style=\"fill:none;fill-rule:evenodd;stroke:#000000;stroke-width:2px;stroke-linecap:butt;stroke-linejoin:miter;stroke-opacity:1\"/>\n",
       "<path class=\"bond-1\" d=\"M 83.1174,49.8418 L 129.899,39.6541\" style=\"fill:none;fill-rule:evenodd;stroke:#000000;stroke-width:2px;stroke-linecap:butt;stroke-linejoin:miter;stroke-opacity:1\"/>\n",
       "<path class=\"bond-2\" d=\"M 129.899,39.6541 L 162.112,75.074\" style=\"fill:none;fill-rule:evenodd;stroke:#000000;stroke-width:2px;stroke-linecap:butt;stroke-linejoin:miter;stroke-opacity:1\"/>\n",
       "<path class=\"bond-2\" d=\"M 127.647,51.4098 L 150.196,76.2037\" style=\"fill:none;fill-rule:evenodd;stroke:#000000;stroke-width:2px;stroke-linecap:butt;stroke-linejoin:miter;stroke-opacity:1\"/>\n",
       "<path class=\"bond-3\" d=\"M 162.112,75.074 L 208.893,64.8862\" style=\"fill:none;fill-rule:evenodd;stroke:#000000;stroke-width:2px;stroke-linecap:butt;stroke-linejoin:miter;stroke-opacity:1\"/>\n",
       "<path class=\"bond-20\" d=\"M 162.112,75.074 L 147.544,120.682\" style=\"fill:none;fill-rule:evenodd;stroke:#000000;stroke-width:2px;stroke-linecap:butt;stroke-linejoin:miter;stroke-opacity:1\"/>\n",
       "<path class=\"bond-4\" d=\"M 208.893,64.8862 L 241.107,100.306\" style=\"fill:none;fill-rule:evenodd;stroke:#000000;stroke-width:2px;stroke-linecap:butt;stroke-linejoin:miter;stroke-opacity:1\"/>\n",
       "<path class=\"bond-4\" d=\"M 206.641,76.6419 L 229.191,101.436\" style=\"fill:none;fill-rule:evenodd;stroke:#000000;stroke-width:2px;stroke-linecap:butt;stroke-linejoin:miter;stroke-opacity:1\"/>\n",
       "<path class=\"bond-21\" d=\"M 208.893,64.8862 L 223.461,19.2786\" style=\"fill:none;fill-rule:evenodd;stroke:#000000;stroke-width:2px;stroke-linecap:butt;stroke-linejoin:miter;stroke-opacity:1\"/>\n",
       "<path class=\"bond-5\" d=\"M 241.107,100.306 L 226.539,145.914\" style=\"fill:none;fill-rule:evenodd;stroke:#000000;stroke-width:2px;stroke-linecap:butt;stroke-linejoin:miter;stroke-opacity:1\"/>\n",
       "<path class=\"bond-22\" d=\"M 241.107,100.306 L 287.888,90.1184\" style=\"fill:none;fill-rule:evenodd;stroke:#000000;stroke-width:2px;stroke-linecap:butt;stroke-linejoin:miter;stroke-opacity:1\"/>\n",
       "<path class=\"bond-6\" d=\"M 226.539,145.914 L 179.758,156.101\" style=\"fill:none;fill-rule:evenodd;stroke:#000000;stroke-width:2px;stroke-linecap:butt;stroke-linejoin:miter;stroke-opacity:1\"/>\n",
       "<path class=\"bond-6\" d=\"M 217.484,138.086 L 184.737,145.217\" style=\"fill:none;fill-rule:evenodd;stroke:#000000;stroke-width:2px;stroke-linecap:butt;stroke-linejoin:miter;stroke-opacity:1\"/>\n",
       "<path class=\"bond-9\" d=\"M 226.539,145.914 L 258.752,181.334\" style=\"fill:none;fill-rule:evenodd;stroke:#000000;stroke-width:2px;stroke-linecap:butt;stroke-linejoin:miter;stroke-opacity:1\"/>\n",
       "<path class=\"bond-7\" d=\"M 179.758,156.101 L 147.544,120.682\" style=\"fill:none;fill-rule:evenodd;stroke:#000000;stroke-width:2px;stroke-linecap:butt;stroke-linejoin:miter;stroke-opacity:1\"/>\n",
       "<path class=\"bond-8\" d=\"M 147.544,120.682 L 100.763,130.869\" style=\"fill:none;fill-rule:evenodd;stroke:#000000;stroke-width:2px;stroke-linecap:butt;stroke-linejoin:miter;stroke-opacity:1\"/>\n",
       "<path class=\"bond-8\" d=\"M 138.49,112.853 L 105.743,119.985\" style=\"fill:none;fill-rule:evenodd;stroke:#000000;stroke-width:2px;stroke-linecap:butt;stroke-linejoin:miter;stroke-opacity:1\"/>\n",
       "<path class=\"bond-10\" d=\"M 258.752,181.334 L 305.534,171.146\" style=\"fill:none;fill-rule:evenodd;stroke:#000000;stroke-width:2px;stroke-linecap:butt;stroke-linejoin:miter;stroke-opacity:1\"/>\n",
       "<path class=\"bond-10\" d=\"M 263.732,170.449 L 296.479,163.318\" style=\"fill:none;fill-rule:evenodd;stroke:#000000;stroke-width:2px;stroke-linecap:butt;stroke-linejoin:miter;stroke-opacity:1\"/>\n",
       "<path class=\"bond-11\" d=\"M 305.534,171.146 L 320.101,125.538\" style=\"fill:none;fill-rule:evenodd;stroke:#000000;stroke-width:2px;stroke-linecap:butt;stroke-linejoin:miter;stroke-opacity:1\"/>\n",
       "<path class=\"bond-12\" d=\"M 320.101,125.538 L 287.888,90.1184\" style=\"fill:none;fill-rule:evenodd;stroke:#000000;stroke-width:2px;stroke-linecap:butt;stroke-linejoin:miter;stroke-opacity:1\"/>\n",
       "<path class=\"bond-12\" d=\"M 308.185,126.668 L 285.636,101.874\" style=\"fill:none;fill-rule:evenodd;stroke:#000000;stroke-width:2px;stroke-linecap:butt;stroke-linejoin:miter;stroke-opacity:1\"/>\n",
       "<path class=\"bond-23\" d=\"M 320.101,125.538 L 366.883,115.35\" style=\"fill:none;fill-rule:evenodd;stroke:#000000;stroke-width:2px;stroke-linecap:butt;stroke-linejoin:miter;stroke-opacity:1\"/>\n",
       "<path class=\"bond-13\" d=\"M 287.888,90.1184 L 302.456,44.5108\" style=\"fill:none;fill-rule:evenodd;stroke:#000000;stroke-width:2px;stroke-linecap:butt;stroke-linejoin:miter;stroke-opacity:1\"/>\n",
       "<path class=\"bond-14\" d=\"M 302.456,44.5108 L 349.237,34.323\" style=\"fill:none;fill-rule:evenodd;stroke:#000000;stroke-width:2px;stroke-linecap:butt;stroke-linejoin:miter;stroke-opacity:1\"/>\n",
       "<path class=\"bond-14\" d=\"M 311.51,52.3389 L 344.257,45.2074\" style=\"fill:none;fill-rule:evenodd;stroke:#000000;stroke-width:2px;stroke-linecap:butt;stroke-linejoin:miter;stroke-opacity:1\"/>\n",
       "<path class=\"bond-17\" d=\"M 302.456,44.5108 L 270.242,9.09091\" style=\"fill:none;fill-rule:evenodd;stroke:#000000;stroke-width:2px;stroke-linecap:butt;stroke-linejoin:miter;stroke-opacity:1\"/>\n",
       "<path class=\"bond-15\" d=\"M 349.237,34.323 L 381.45,69.7429\" style=\"fill:none;fill-rule:evenodd;stroke:#000000;stroke-width:2px;stroke-linecap:butt;stroke-linejoin:miter;stroke-opacity:1\"/>\n",
       "<path class=\"bond-16\" d=\"M 381.45,69.7429 L 366.883,115.35\" style=\"fill:none;fill-rule:evenodd;stroke:#000000;stroke-width:2px;stroke-linecap:butt;stroke-linejoin:miter;stroke-opacity:1\"/>\n",
       "<path class=\"bond-16\" d=\"M 370.144,73.6705 L 359.946,105.596\" style=\"fill:none;fill-rule:evenodd;stroke:#000000;stroke-width:2px;stroke-linecap:butt;stroke-linejoin:miter;stroke-opacity:1\"/>\n",
       "<path class=\"bond-18\" d=\"M 270.242,9.09091 L 223.461,19.2786\" style=\"fill:none;fill-rule:evenodd;stroke:#000000;stroke-width:2px;stroke-linecap:butt;stroke-linejoin:miter;stroke-opacity:1\"/>\n",
       "<path class=\"bond-18\" d=\"M 265.263,19.9753 L 232.516,27.1067\" style=\"fill:none;fill-rule:evenodd;stroke:#000000;stroke-width:2px;stroke-linecap:butt;stroke-linejoin:miter;stroke-opacity:1\"/>\n",
       "</svg>"
      ],
      "text/plain": [
       "<IPython.core.display.SVG object>"
      ]
     },
     "execution_count": 14,
     "metadata": {},
     "output_type": "execute_result"
    }
   ],
   "source": [
    "#select one molecule from above and visualize the important substructure\n",
    "sm = SMILES[39]\n",
    "mol = Chem.MolFromSmiles(sm)\n",
    "depictBit(struture_id,mol)"
   ]
  },
  {
   "cell_type": "code",
   "execution_count": null,
   "metadata": {},
   "outputs": [],
   "source": []
  },
  {
   "cell_type": "code",
   "execution_count": null,
   "metadata": {},
   "outputs": [],
   "source": []
  },
  {
   "cell_type": "code",
   "execution_count": null,
   "metadata": {},
   "outputs": [],
   "source": []
  }
 ],
 "metadata": {
  "kernelspec": {
   "display_name": "Python 3",
   "language": "python",
   "name": "python3"
  },
  "language_info": {
   "codemirror_mode": {
    "name": "ipython",
    "version": 3
   },
   "file_extension": ".py",
   "mimetype": "text/x-python",
   "name": "python",
   "nbconvert_exporter": "python",
   "pygments_lexer": "ipython3",
   "version": "3.7.3"
  }
 },
 "nbformat": 4,
 "nbformat_minor": 2
}
